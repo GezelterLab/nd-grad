{
 "cells": [
  {
   "cell_type": "markdown",
   "metadata": {},
   "source": [
    "## Homework 2 - Computational Chemistry\n",
    "#### Cody R. Drisko"
   ]
  },
  {
   "cell_type": "code",
   "execution_count": 1,
   "metadata": {},
   "outputs": [],
   "source": [
    "## Packages ##\n",
    "import numpy as np\n",
    "import matplotlib.pyplot as plt\n",
    "from scipy.integrate import quad\n",
    "import scipy.linalg as la\n",
    "import sympy\n",
    "\n",
    "\n",
    "## Conversions ##\n",
    "bohr_to_m = 5.29177e-11\n",
    "AU_mass_to_kg = 9.10938e-31\n",
    "AU_angMom_to_Js = 1.054572e-34\n",
    "J_to_kJmol = 6.022e23 / 1000\n",
    "eV_to_J = 1 / 6.24e18\n",
    "hartree_to_eV = 27.2114\n",
    "\n",
    "\n",
    "## Functions ##\n",
    "def E_n (n, h_bar, m_e, L):\n",
    "    return (n**2 * np.pi**2 * h_bar**2) / (2 * m_e * L**2)\n",
    "\n",
    "def psi_n(n, N, x):\n",
    "    return N * np.cos(np.pi * x / 2)\n",
    "\n",
    "def phi_n(n, N, x):\n",
    "    return N * (1 - x**2)\n",
    "\n",
    "def percent_difference(value1, value2):\n",
    "    return (np.abs(value1 - value2) / np.abs((value1 + value2) / 2)) * 100\n",
    "\n",
    "def xNormalize(x, f):\n",
    "    return sympy.sqrt(1 / sympy.integrate(f**2, (x, -1, 1)))\n",
    "\n",
    "def rNormalize(r, f):\n",
    "    return sympy.sqrt(1 / sympy.integrate(f**2 * r**2, (r, 0, sympy.oo)))\n",
    "\n",
    "def Hamiltonian_operator(r, waveFunction):\n",
    "    return -1/2 * sympy.diff(waveFunction, r, r) - 1/r * waveFunction\n",
    "\n",
    "def getH(r, func1, func2):\n",
    "    function = func1 * r * Hamiltonian_operator(r, func2 * r)\n",
    "    return sympy.integrate(function, (r, 0, sympy.oo))\n",
    "\n",
    "def getS(r, func1, func2):\n",
    "    function =  func1 * r * func2 * r\n",
    "    return sympy.integrate(function, (r, 0, sympy.oo))\n",
    "\n",
    "def linearCombination(r, c1, c2, xi2):\n",
    "    gofr1 = sympy.exp(- r**2)\n",
    "    gofr2 = sympy.exp(- xi2 * r**2)\n",
    "    gofr1 *= rNormalize(r, gofr1)\n",
    "    gofr2 *= rNormalize(r, gofr2)\n",
    "    fofr = c1 * gofr1 + c2 * gofr2 \n",
    "    fofr *= rNormalize(r, fofr)\n",
    "    function = sympy.lambdify(r, fofr * r * Hamiltonian_operator(r, fofr * r))\n",
    "    return quad(function, 0, np.inf)"
   ]
  },
  {
   "cell_type": "markdown",
   "metadata": {},
   "source": [
    "___\n",
    "### Question 1a"
   ]
  },
  {
   "cell_type": "code",
   "execution_count": 2,
   "metadata": {},
   "outputs": [
    {
     "name": "stdout",
     "output_type": "stream",
     "text": [
      "1a) E_1 = 1.234 Hartrees\n",
      "    E_1 = 3239.010 kJ/mol\n",
      "    E_1 = 33.563 eV\n"
     ]
    }
   ],
   "source": [
    "energy_Hartree = E_n(1, 1, 1, 2)\n",
    "energy_kJmol = E_n(1, (1*AU_angMom_to_Js), (1*AU_mass_to_kg), (2*bohr_to_m)) * J_to_kJmol\n",
    "energy_eV = E_n(1, (1*AU_angMom_to_Js/eV_to_J), (1*AU_mass_to_kg), (2*bohr_to_m)) * eV_to_J       \n",
    "\n",
    "\n",
    "## Results ##\n",
    "print(\"1a) E_1 = %0.3f Hartrees\\n\\\n",
    "    E_1 = %0.3f kJ/mol\\n\\\n",
    "    E_1 = %0.3f eV\" %(energy_Hartree, energy_kJmol, energy_eV))"
   ]
  },
  {
   "cell_type": "markdown",
   "metadata": {},
   "source": [
    "___\n",
    "### Question 1b"
   ]
  },
  {
   "cell_type": "code",
   "execution_count": 3,
   "metadata": {},
   "outputs": [
    {
     "name": "stdout",
     "output_type": "stream",
     "text": [
      "1b) psi(-1) = 0\n",
      "    psi(1) = 0\n",
      "    The number of nodes = 0\n",
      "    The normalization constant = 1\n"
     ]
    },
    {
     "data": {
      "image/png": "[encoded data removed]",
      "text/plain": [
       "<Figure size 432x288 with 1 Axes>"
      ]
     },
     "metadata": {
      "needs_background": "light"
     },
     "output_type": "display_data"
    }
   ],
   "source": [
    "## Use SymPy to Get Normalization Constant ##\n",
    "x = sympy.Symbol(\"x\")\n",
    "psi_1 = sympy.cos(sympy.pi * x / 2)\n",
    "N_1b = xNormalize(x, psi_1)\n",
    "\n",
    "\n",
    "## Set Psi_1 ##\n",
    "x = np.linspace(-1, 1, 100)\n",
    "psi_1 = np.zeros(100)\n",
    "\n",
    "for i in range(0, 100):\n",
    "    psi_1[i] = psi_n(1, N_1b, x[i])\n",
    "\n",
    "    \n",
    "## Get Nodes ##    \n",
    "nodes=0\n",
    "for i in range(1, 99):       ## Don't include first and last points\n",
    "    if (psi_1[i] == 0):\n",
    "        ++nodes\n",
    "\n",
    "        \n",
    "## Get Proper Boundary Conditions ##\n",
    "boundCond1 = psi_1[0]\n",
    "boundCond2 = psi_1[99]\n",
    "\n",
    "\n",
    "## Results ##\n",
    "print(\"1b) psi(-1) = %d\\n\\\n",
    "    psi(1) = %d\\n\\\n",
    "    The number of nodes = %d\\n\\\n",
    "    The normalization constant = %d\" %(boundCond1, boundCond2, nodes, N_1b))\n",
    "\n",
    "\n",
    "## Plotting ##\n",
    "plt.plot(x, psi_1, label=(\"$\\\\psi_1(x)$\"))\n",
    "\n",
    "plt.xlim(-1, 1)\n",
    "plt.ylim(0, 1.5)\n",
    "plt.xlabel(\"x (bohr)\")\n",
    "plt.ylabel(\"Wavefunction\")\n",
    "_ = plt.legend()"
   ]
  },
  {
   "cell_type": "markdown",
   "metadata": {},
   "source": [
    "___\n",
    "### Question 1c"
   ]
  },
  {
   "cell_type": "code",
   "execution_count": 4,
   "metadata": {},
   "outputs": [
    {
     "name": "stdout",
     "output_type": "stream",
     "text": [
      "1c) <E_1> = 1.25 Hartree\n",
      "\n",
      "    The percent difference between the expectation value of the energy and\n",
      "    the actual energy is 1.31%. This is small, telling us this function is\n",
      "    a decent approximation to the actual wavefunction. The actual value is\n",
      "    lowerthan the approximation, which is predicted by the variational\n",
      "    principle.\n"
     ]
    },
    {
     "data": {
      "image/png": "[encoded data removed]",
      "text/plain": [
       "<Figure size 432x288 with 1 Axes>"
      ]
     },
     "metadata": {
      "needs_background": "light"
     },
     "output_type": "display_data"
    }
   ],
   "source": [
    "## Use SymPy to get Normalization Constant ##\n",
    "x = sympy.Symbol(\"x\")\n",
    "exprPhi = (1 - x**2)\n",
    "N_1c = xNormalize(x, exprPhi)\n",
    "\n",
    "    \n",
    "## Expectation Value ##\n",
    "braPhi = N_1c * exprPhi                                      ## <phi_1|\n",
    "Ham_ketPhi = (-1/2) * sympy.diff(braPhi, x, x)               ## H|phi_1>\n",
    "energy_Expect = sympy.integrate(braPhi * Ham_ketPhi, (x, -1, 1))\n",
    "\n",
    "\n",
    "## Results ##\n",
    "print(\"1c) <E_1> = %0.2f Hartree\\n\\n\\\n",
    "    The percent difference between the expectation value of the energy and\\n\\\n",
    "    the actual energy is %0.2f%%. This is small, telling us this function is\\n\\\n",
    "    a decent approximation to the actual wavefunction. The actual value is\\n\\\n",
    "    lowerthan the approximation, which is predicted by the variational\\n\\\n",
    "    principle.\" %(energy_Expect, percent_difference(energy_Expect, energy_Hartree)))\n",
    "    \n",
    "    \n",
    "## Comparison Between Psi_1 and Phi_1 ##\n",
    "x = np.linspace(-1, 1, 100)\n",
    "psi_1 = np.zeros(100)\n",
    "phi_1 = np.zeros(100)\n",
    "\n",
    "for i in range(0, 100):\n",
    "    psi_1[i] = psi_n(1, N_1b, x[i])\n",
    "    phi_1[i] = phi_n(1, N_1c, x[i])\n",
    "\n",
    "    \n",
    "## Plotting ##    \n",
    "plt.plot(x, psi_1, label=\"$\\\\psi_1(x)$\")\n",
    "plt.plot(x, phi_1, label=\"$\\\\phi_1(x)$\")\n",
    "\n",
    "plt.xlim(-1, 1)\n",
    "plt.ylim(0, 1.5)\n",
    "plt.xlabel(\"x (bohr)\")\n",
    "plt.ylabel(\"Wavefunction\")\n",
    "_ = plt.legend()"
   ]
  },
  {
   "cell_type": "markdown",
   "metadata": {},
   "source": [
    "___\n",
    "### Question 2a"
   ]
  },
  {
   "cell_type": "code",
   "execution_count": 5,
   "metadata": {},
   "outputs": [
    {
     "name": "stdout",
     "output_type": "stream",
     "text": [
      "2a) <E> = -0.096 Hartrees\n"
     ]
    }
   ],
   "source": [
    "## Use SymPy to get Normalization Constant ##\n",
    "r = sympy.Symbol(\"r\")\n",
    "gofr = sympy.exp(-r**2)\n",
    "N_2a = rNormalize(r, gofr)\n",
    "\n",
    "\n",
    "## Results ##\n",
    "energy, error = linearCombination(r, 0, 1, 1)\n",
    "print(\"2a) <E> = %0.3f Hartrees\" %energy)"
   ]
  },
  {
   "cell_type": "markdown",
   "metadata": {},
   "source": [
    "___\n",
    "### Question 2b"
   ]
  },
  {
   "cell_type": "code",
   "execution_count": 6,
   "metadata": {},
   "outputs": [
    {
     "name": "stdout",
     "output_type": "stream",
     "text": [
      "2b) The optimal value of <E> occurrs at a value of 0.28 for xi\n",
      "    which gives an energy of -0.42 Hartrees. Comparing this to the\n",
      "    actual energy of -0.50 Hartrees, we see that the percent difference\n",
      "    between the two values is 16.36% which seems large but considering\n",
      "    it is just a single function, it actually does pretty well.\n"
     ]
    },
    {
     "data": {
      "image/png": "[encoded data removed]",
      "text/plain": [
       "<Figure size 432x288 with 1 Axes>"
      ]
     },
     "metadata": {
      "needs_background": "light"
     },
     "output_type": "display_data"
    }
   ],
   "source": [
    "r = sympy.Symbol(\"r\")\n",
    "xi = np.linspace(0.01, 1, 100)\n",
    "energy = np.zeros(100)\n",
    "error = np.zeros(100)\n",
    "\n",
    "for i in range(0, 100):\n",
    "    energy[i], error[i] = linearCombination(r, 0, 1, xi[i])\n",
    "\n",
    "bestEnergy = np.min(energy)\n",
    "for i in range(0, 100):\n",
    "    if energy[i] == bestEnergy:\n",
    "        bestXi = xi[i]\n",
    "\n",
    "\n",
    "## Results ##\n",
    "print(\"2b) The optimal value of <E> occurrs at a value of %0.2f for xi\\n\\\n",
    "    which gives an energy of %0.2f Hartrees. Comparing this to the\\n\\\n",
    "    actual energy of -0.50 Hartrees, we see that the percent difference\\n\\\n",
    "    between the two values is %0.2f%% which seems large but considering\\n\\\n",
    "    it is just a single function, it actually does pretty well.\" \n",
    "    %(bestXi, bestEnergy, percent_difference(bestEnergy, -0.5) ))\n",
    "\n",
    "\n",
    "## Plotting ##\n",
    "plt.plot(xi, energy, label=\"$\\\\langle E \\\\rangle$\")\n",
    "plt.plot(bestXi, bestEnergy, 'o', label=\"Minimum Value of $\\\\langle E \\\\rangle$\")\n",
    "plt.plot(xi, np.linspace(-.5, -.5, 100), label=\"Actual Energy\")\n",
    "\n",
    "plt.xlabel(\"$\\\\xi$\")\n",
    "plt.ylabel(\"$\\\\langle E \\\\rangle$ (Hartrees)\")\n",
    "_ = plt.legend()"
   ]
  },
  {
   "cell_type": "markdown",
   "metadata": {},
   "source": [
    "___\n",
    "### Question 2c"
   ]
  },
  {
   "cell_type": "code",
   "execution_count": 7,
   "metadata": {},
   "outputs": [
    {
     "name": "stdout",
     "output_type": "stream",
     "text": [
      "2c) Problem Values: f(r) = c_1 N_1 exp(-r^2) + c_2 N_2 exp(-1.5r^2)\n",
      "      E_1 = -0.159 Hartrees\n",
      "      c1/c2 = -2.679\n",
      "\n",
      "    Optimal Values: f(r) = c_1 N_1 exp(-0.212r^2) + c_2 N_2 exp(-1.5r^2)\n",
      "      E_1 = -0.486 Hartrees\n",
      "      c1/c2 = 3.370\n",
      "\n",
      "    Checking work: (see notes)\n",
      "      <b(r)|H|b(r)> = -0.306 Hartrees\n",
      "      <c(r)|H|c(r)> = -0.333 Hartrees\n"
     ]
    }
   ],
   "source": [
    "r = sympy.Symbol(\"r\")\n",
    "\n",
    "xi1 = np.linspace(1e-9, 1, 100, endpoint=True)\n",
    "E_1 = np.zeros(100)\n",
    "c1_c2 = np.zeros(100)\n",
    "\n",
    "\n",
    "for i in range(0, 100):\n",
    "    gofr1 = sympy.exp(- xi1[i] * r**2)\n",
    "    gofr2 = sympy.exp(- 1.5 * r**2)\n",
    "    gofr1 *= rNormalize(r, gofr1)\n",
    "    gofr2 *= rNormalize(r, gofr2)\n",
    "\n",
    "    H_11 = getH(r, gofr1, gofr1)    # <g1|H|g1>\n",
    "    H_12 = getH(r, gofr1, gofr2)    # <g1|H|g2> = <g2|H|g1>\n",
    "    H_22 = getH(r, gofr2, gofr2)    # <g2|H|g2>\n",
    "    S_11 = getS(r, gofr1, gofr1)    # <g1|g1>\n",
    "    S_12 = getS(r, gofr1, gofr2)    # <g1|g2> = <g2|g1>\n",
    "    S_22 = getS(r, gofr2, gofr2)    # <g2|g2>\n",
    "\n",
    "    E = sympy.Symbol(\"E\")\n",
    "    secularEqn = (1 - S_12**2) * E**2 + (2*S_12*H_12 - H_11 - H_22)*E + H_11*H_22 - H_12**2\n",
    "    E_1[i] = sympy.solve(secularEqn, E)[0]\n",
    "\n",
    "    c1_c2[i] = - (H_12 - S_12*E_1[i]) / (H_11 - E_1[i])      \n",
    "\n",
    "    \n",
    "bestEnergy = np.min(E_1)\n",
    "for i in range(0, 100):\n",
    "    if E_1[i] == bestEnergy:\n",
    "        bestXi1 = xi1[i]\n",
    "        bestC1_C2 = c1_c2[i]\n",
    "    if xi1[i] == 1:\n",
    "        problemEnergy = E_1[i]\n",
    "        problemC1_C2 = c1_c2[i]\n",
    "\n",
    "\n",
    "## Results ##\n",
    "print(\"2c) Problem Values: f(r) = c_1 N_1 exp(-r^2) + c_2 N_2 exp(-1.5r^2)\\n\\\n",
    "      E_1 = %0.3f Hartrees\\n\\\n",
    "      c1/c2 = %0.3f\\n\\n\\\n",
    "    Optimal Values: f(r) = c_1 N_1 exp(-%0.3fr^2) + c_2 N_2 exp(-1.5r^2)\\n\\\n",
    "      E_1 = %0.3f Hartrees\\n\\\n",
    "      c1/c2 = %0.3f\\n\\n\\\n",
    "    Checking work: (see notes)\\n\\\n",
    "      <b(r)|H|b(r)> = %0.3f Hartrees\\n\\\n",
    "      <c(r)|H|c(r)> = %0.3f Hartrees\" %(problemEnergy, problemC1_C2, bestXi1, bestEnergy, bestC1_C2, linearCombination(r, 1, 1, 0.5)[0], linearCombination(r, 1, 1.5, 0.5)[0]))        "
   ]
  },
  {
   "cell_type": "markdown",
   "metadata": {},
   "source": [
    "___\n",
    "### Question 3a"
   ]
  },
  {
   "cell_type": "code",
   "execution_count": 8,
   "metadata": {},
   "outputs": [
    {
     "name": "stdout",
     "output_type": "stream",
     "text": [
      "3a) Argon:\n",
      "    Number of SCF Iterations = 30\n",
      "    Final HFS Energy = -526.8275 Hartrees\n",
      "\n",
      "    Orbital | Energy (Hartrees)\n",
      "    --------+------------------\n",
      "       1s   |    -116.9366 \n",
      "       2s   |    -11.6037 \n",
      "       2p   |    -9.2721 \n",
      "       3s   |    -1.1022 \n",
      "       3p   |    -0.5735\n"
     ]
    }
   ],
   "source": [
    "file = open(\"FDA/Ar.out\", 'r')\n",
    "\n",
    "totalEnergyLine = []\n",
    "_1sLine = []\n",
    "_2sLine = []\n",
    "_2pLine = []\n",
    "_3sLine = []\n",
    "_3pLine = []\n",
    "count = 0\n",
    "\n",
    "while True:\n",
    "    line = file.readline()\n",
    "    if not line: break\n",
    "    if \"itr\" in line:\n",
    "        count += 1\n",
    "    if \"total energy\" in line:\n",
    "        totalEnergyLine = line.split()\n",
    "    if \"1s\" in line:\n",
    "        _1sLine = line.split()\n",
    "    if \"2s\" in line:\n",
    "        _2sLine = line.split()\n",
    "    if \"2p\" in line:\n",
    "        _2pLine = line.split()\n",
    "    if \"3s\" in line:\n",
    "        _3sLine = line.split()\n",
    "    if \"3p\" in line:\n",
    "        _3pLine = line.split()\n",
    "file.close()\n",
    "\n",
    "\n",
    "## Results ##\n",
    "print(\"3a) Argon:\\n\\\n",
    "    Number of SCF Iterations = %d\\n\\\n",
    "    Final HFS Energy = %s Hartrees\\n\\n\\\n",
    "    Orbital | Energy (Hartrees)\\n\\\n",
    "    --------+------------------\\n\\\n",
    "       1s   |    %s \\n\\\n",
    "       2s   |    %s \\n\\\n",
    "       2p   |    %s \\n\\\n",
    "       3s   |    %s \\n\\\n",
    "       3p   |    %s\" %(count, totalEnergyLine[3], _1sLine[2], _2sLine[2], _2pLine[2], _3sLine[2], _3pLine[2]))\n"
   ]
  },
  {
   "cell_type": "markdown",
   "metadata": {},
   "source": [
    "___\n",
    "### Question 3b"
   ]
  },
  {
   "cell_type": "code",
   "execution_count": 9,
   "metadata": {},
   "outputs": [
    {
     "name": "stdout",
     "output_type": "stream",
     "text": [
      "3b)\n"
     ]
    },
    {
     "data": {
      "image/png": "[encoded data removed]",
      "text/plain": [
       "<Figure size 432x288 with 1 Axes>"
      ]
     },
     "metadata": {
      "needs_background": "light"
     },
     "output_type": "display_data"
    },
    {
     "data": {
      "image/png": "[encoded data removed]",
      "text/plain": [
       "<Figure size 432x288 with 1 Axes>"
      ]
     },
     "metadata": {
      "needs_background": "light"
     },
     "output_type": "display_data"
    }
   ],
   "source": [
    "totalDMPData = np.loadtxt(\"FDA/Ar.dmp\", dtype=float, skiprows=3, max_rows=300)\n",
    "\n",
    "N = np.size(totalDMPData)\n",
    "gridpoints = totalDMPData[0:N:1, 0]\n",
    "totalChargeDensity = totalDMPData[0:N:1, 1]\n",
    "\n",
    "\n",
    "## Results ##\n",
    "print(\"3b)\")\n",
    "for i in range(1, 6):\n",
    "    Data = np.loadtxt(\"FDA/Ar.dmp\", dtype=float, skiprows=(300*i + 3 + i), max_rows=300)\n",
    "    list=[\"1s\", \"2s\", \"2p\", \"3s\", \"3p\"]\n",
    "    plt.figure(1)\n",
    "    plt.semilogx(gridpoints, Data, label=\"%s Orbital\" %list[i-1])\n",
    "    plt.figure(2)\n",
    "    plt.semilogx(gridpoints, Data, label=\"%s Orbital\" %list[i-1])\n",
    "\n",
    "plt.figure(1)\n",
    "plt.title(\"Orbitals Without Total Current Density\")\n",
    "plt.xlabel(\"Grid Points\")\n",
    "plt.ylabel(\"Charge Density\")\n",
    "_=plt.legend()\n",
    "\n",
    "\n",
    "plt.figure(2)    \n",
    "plt.semilogx(gridpoints, totalChargeDensity, label=\"Total\")\n",
    "plt.title(\"Orbitals With Total Current Density\")\n",
    "plt.xlabel(\"Grid Points\")\n",
    "plt.ylabel(\"Charge Density\")\n",
    "_=plt.legend()"
   ]
  },
  {
   "cell_type": "markdown",
   "metadata": {},
   "source": [
    "___\n",
    "### Question 3c"
   ]
  },
  {
   "cell_type": "code",
   "execution_count": 10,
   "metadata": {},
   "outputs": [
    {
     "name": "stdout",
     "output_type": "stream",
     "text": [
      "3c) Cadmium:\n",
      "    Number of SCF Iterations = 31\n",
      "    Final HFS Energy = -5470.9399 Hartrees\n",
      "\n",
      "    Orbital | Energy (Hartrees)\n",
      "    --------+------------------\n",
      "       1s   |    -951.1437 \n",
      "       2s   |    -139.7159 \n",
      "       2p   |    -130.6671 \n",
      "       3s   |    -26.4498 \n",
      "       3p   |    -22.6988 \n",
      "       3d   |    -15.7050 \n",
      "       4s   |    -3.9620 \n",
      "       4p   |    -2.7342 \n",
      "       4d   |    -0.7278 \n",
      "       5s   |    -0.3014\n",
      "\n",
      "    The HFS energy is almost 10 times lower in Cd than in Ar;\n",
      "    which is to be expected, as it is a much larger atom with\n",
      "    more electrons adding to the atom's stabilization.\n"
     ]
    }
   ],
   "source": [
    "file = open(\"FDA/Cd.out\", 'r')\n",
    "\n",
    "totalEnergyLineAtom = []\n",
    "_1sLine = []\n",
    "_2sLine = []\n",
    "_2pLine = []\n",
    "_3sLine = []\n",
    "_3pLine = []\n",
    "_3dLine = []\n",
    "_4sLine = []\n",
    "_4pLine = []\n",
    "_4dLine = []\n",
    "_5sLine = []\n",
    "count = 0\n",
    "\n",
    "while True:\n",
    "    line = file.readline()\n",
    "    if not line: break\n",
    "    if \"itr\" in line:\n",
    "        count += 1\n",
    "    if \"total energy\" in line:\n",
    "        totalEnergyLineAtom = line.split()\n",
    "    if \"1s\" in line:\n",
    "        _1sLine = line.split()\n",
    "    if \"2s\" in line:\n",
    "        _2sLine = line.split()\n",
    "    if \"2p\" in line:\n",
    "        _2pLine = line.split()\n",
    "    if \"3s\" in line:\n",
    "        _3sLine = line.split()\n",
    "    if \"3p\" in line:\n",
    "        _3pLine = line.split()\n",
    "    if \"3d\" in line:\n",
    "        _3dLine = line.split()\n",
    "    if \"4s\" in line:    \n",
    "        _4sLine = line.split()\n",
    "    if \"4p\" in line:\n",
    "        _4pLine = line.split()\n",
    "    if \"4d\" in line:\n",
    "        _4dLine = line.split()\n",
    "    if \"5s\" in line:\n",
    "        _5sLine = line.split()\n",
    "file.close()\n",
    "\n",
    "\n",
    "## Results ##\n",
    "print(\"3c) Cadmium:\\n\\\n",
    "    Number of SCF Iterations = %d\\n\\\n",
    "    Final HFS Energy = %s Hartrees\\n\\n\\\n",
    "    Orbital | Energy (Hartrees)\\n\\\n",
    "    --------+------------------\\n\\\n",
    "       1s   |    %s \\n\\\n",
    "       2s   |    %s \\n\\\n",
    "       2p   |    %s \\n\\\n",
    "       3s   |    %s \\n\\\n",
    "       3p   |    %s \\n\\\n",
    "       3d   |    %s \\n\\\n",
    "       4s   |    %s \\n\\\n",
    "       4p   |    %s \\n\\\n",
    "       4d   |    %s \\n\\\n",
    "       5s   |    %s\\n\\n\\\n",
    "    The HFS energy is almost 10 times lower in Cd than in Ar;\\n\\\n",
    "    which is to be expected, as it is a much larger atom with\\n\\\n",
    "    more electrons adding to the atom's stabilization.\" %(count, totalEnergyLineAtom[3], _1sLine[2], _2sLine[2], \n",
    "                                                          _2pLine[2], _3sLine[2], _3pLine[2], _3dLine[2], \n",
    "                                                          _4sLine[2], _4pLine[2], _4dLine[2], _5sLine[2]))\n",
    "\n"
   ]
  },
  {
   "cell_type": "markdown",
   "metadata": {},
   "source": [
    "___\n",
    "### Question 3d"
   ]
  },
  {
   "cell_type": "code",
   "execution_count": 11,
   "metadata": {},
   "outputs": [
    {
     "name": "stdout",
     "output_type": "stream",
     "text": [
      "3d) The highest energy orbital (i.e. the orbital where the electron\n",
      "    is taken from) has an energy of 0.301 Hartrees. Compared to the\n",
      "    experimental value of 0.331 Hartrees, this approximation actually does\n",
      "    pretty well; the percent difference is only 9.215%.\n"
     ]
    }
   ],
   "source": [
    "IE_calc = -float(_5sLine[2])\n",
    "IE_exp = 8.9938 * 1 / hartree_to_eV\n",
    "\n",
    "## Results ##\n",
    "print(\"3d) The highest energy orbital (i.e. the orbital where the electron\\n\\\n",
    "    is taken from) has an energy of %0.3f Hartrees. Compared to the\\n\\\n",
    "    experimental value of %0.3f Hartrees, this approximation actually does\\n\\\n",
    "    pretty well; the percent difference is only %0.3f%%.\" %(IE_calc, IE_exp, percent_difference(IE_calc, IE_exp)))\n",
    "\n",
    "      \n",
    "## Reference: https://www.lenntech.com/periodic-chart-elements/ionization-energy.htm ##      "
   ]
  },
  {
   "cell_type": "markdown",
   "metadata": {},
   "source": [
    "___\n",
    "### Question 3e"
   ]
  },
  {
   "cell_type": "code",
   "execution_count": 12,
   "metadata": {},
   "outputs": [
    {
     "name": "stdout",
     "output_type": "stream",
     "text": [
      "3e) Cadmium Cation:\n",
      "    Number of SCF Iterations = 31\n",
      "    Final HFS Energy = -5470.6400 Hartrees\n",
      "\n",
      "    Orbital | Energy (Hartrees)\n",
      "    --------+------------------\n",
      "       1s   |    -951.4902 \n",
      "       2s   |    -140.0595 \n",
      "       2p   |    -131.0109 \n",
      "       3s   |    -26.7941 \n",
      "       3p   |    -23.0431 \n",
      "       3d   |    -16.0491 \n",
      "       4s   |    -4.3076 \n",
      "       4p   |    -3.0796 \n",
      "       4d   |    -1.0691 \n",
      "       5s   |    -0.5910\n",
      "\n",
      "    The HFS energy of the atom is lower in energy than that of the\n",
      "    cation. On the other hand, the orbital energies of the cation are all\n",
      "    lower in energy than the neutral atom. This is interesting because\n",
      "    removing one of the paired electrons actually stabilizes the\n",
      "    individual orbitals. As for the distance from the nucleus, the\n",
      "    neutral atoms 4s, 4p, 4d, and 5s electrons are farther than those\n",
      "    of the cation. This can be attributed to a decrease in electron-electron\n",
      "    repulsion.\n"
     ]
    }
   ],
   "source": [
    "file = open(\"FDA/Cd-cation.out\", 'r')\n",
    "\n",
    "totalEnergyLineCation = []\n",
    "_1sLine = []\n",
    "_2sLine = []\n",
    "_2pLine = []\n",
    "_3sLine = []\n",
    "_3pLine = []\n",
    "_3dLine = []\n",
    "_4sLine = []\n",
    "_4pLine = []\n",
    "_4dLine = []\n",
    "_5sLine = []\n",
    "count = 0\n",
    "\n",
    "while True:\n",
    "    line = file.readline()\n",
    "    if not line: break\n",
    "    if \"itr\" in line:\n",
    "        count += 1\n",
    "    if \"total energy\" in line:\n",
    "        totalEnergyLineCation = line.split()\n",
    "    if \"1s\" in line:\n",
    "        _1sLine = line.split()\n",
    "    if \"2s\" in line:\n",
    "        _2sLine = line.split()\n",
    "    if \"2p\" in line:\n",
    "        _2pLine = line.split()\n",
    "    if \"3s\" in line:\n",
    "        _3sLine = line.split()\n",
    "    if \"3p\" in line:\n",
    "        _3pLine = line.split()\n",
    "    if \"3d\" in line:\n",
    "        _3dLine = line.split()\n",
    "    if \"4s\" in line:    \n",
    "        _4sLine = line.split()\n",
    "    if \"4p\" in line:\n",
    "        _4pLine = line.split()\n",
    "    if \"4d\" in line:\n",
    "        _4dLine = line.split()\n",
    "    if \"5s\" in line:\n",
    "        _5sLine = line.split()\n",
    "file.close()\n",
    "\n",
    "\n",
    "## Results ##\n",
    "print(\"3e) Cadmium Cation:\\n\\\n",
    "    Number of SCF Iterations = %d\\n\\\n",
    "    Final HFS Energy = %s Hartrees\\n\\n\\\n",
    "    Orbital | Energy (Hartrees)\\n\\\n",
    "    --------+------------------\\n\\\n",
    "       1s   |    %s \\n\\\n",
    "       2s   |    %s \\n\\\n",
    "       2p   |    %s \\n\\\n",
    "       3s   |    %s \\n\\\n",
    "       3p   |    %s \\n\\\n",
    "       3d   |    %s \\n\\\n",
    "       4s   |    %s \\n\\\n",
    "       4p   |    %s \\n\\\n",
    "       4d   |    %s \\n\\\n",
    "       5s   |    %s\\n\\n\\\n",
    "    The HFS energy of the atom is lower in energy than that of the\\n\\\n",
    "    cation. On the other hand, the orbital energies of the cation are all\\n\\\n",
    "    lower in energy than the neutral atom. This is interesting because\\n\\\n",
    "    removing one of the paired electrons actually stabilizes the\\n\\\n",
    "    individual orbitals. As for the distance from the nucleus, the\\n\\\n",
    "    neutral atoms 4s, 4p, 4d, and 5s electrons are farther than those\\n\\\n",
    "    of the cation. This can be attributed to a decrease in electron-electron\\n\\\n",
    "    repulsion.\" %(count, totalEnergyLineCation[3], _1sLine[2], _2sLine[2], \n",
    "                  _2pLine[2], _3sLine[2], _3pLine[2], _3dLine[2], \n",
    "                  _4sLine[2], _4pLine[2], _4dLine[2], _5sLine[2]))\n",
    "\n",
    "\n"
   ]
  },
  {
   "cell_type": "markdown",
   "metadata": {},
   "source": [
    "___\n",
    "### Question 3f"
   ]
  },
  {
   "cell_type": "code",
   "execution_count": 13,
   "metadata": {},
   "outputs": [
    {
     "name": "stdout",
     "output_type": "stream",
     "text": [
      "3f) The highest energy orbital (i.e. the orbital where the electron is\n",
      "    taken from) has an energy of 0.300 Hartrees. Compared to the experimental\n",
      "    value of 0.331 Hartrees, this approximation actually does pretty well; the\n",
      "    percent difference is only 9.713%. However, this is not an improvement\n",
      "    over the method in 3d).\n"
     ]
    }
   ],
   "source": [
    "IE_calc2 = -float(totalEnergyLineAtom[3]) + float(totalEnergyLineCation[3])\n",
    "\n",
    "\n",
    "## Results ##\n",
    "print(\"3f) The highest energy orbital (i.e. the orbital where the electron is\\n\\\n",
    "    taken from) has an energy of %0.3f Hartrees. Compared to the experimental\\n\\\n",
    "    value of %0.3f Hartrees, this approximation actually does pretty well; the\\n\\\n",
    "    percent difference is only %0.3f%%. However, this is not an improvement\\n\\\n",
    "    over the method in 3d).\" %(IE_calc2, IE_exp, percent_difference(IE_calc2, IE_exp)))\n",
    "\n",
    "      \n",
    "## Reference: https://www.lenntech.com/periodic-chart-elements/ionization-energy.htm ##   "
   ]
  }
 ],
 "metadata": {
  "kernelspec": {
   "display_name": "Python 3",
   "language": "python",
   "name": "python3"
  },
  "language_info": {
   "codemirror_mode": {
    "name": "ipython",
    "version": 3
   },
   "file_extension": ".py",
   "mimetype": "text/x-python",
   "name": "python",
   "nbconvert_exporter": "python",
   "pygments_lexer": "ipython3",
   "version": "3.7.4"
  }
 },
 "nbformat": 4,
 "nbformat_minor": 2
}
