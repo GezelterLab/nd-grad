{
 "cells": [
  {
   "cell_type": "markdown",
   "metadata": {},
   "source": [
    "## Homework 2 - Computational Chemistry\n",
    "#### Cody R. Drisko"
   ]
  },
  {
   "cell_type": "code",
   "execution_count": 1,
   "metadata": {},
   "outputs": [],
   "source": [
    "## Packages ##\n",
    "import numpy as np\n",
    "import matplotlib.pyplot as plt\n",
    "from scipy.integrate import quad\n",
    "import sympy\n",
    "\n",
    "\n",
    "## Conversions ##\n",
    "bohr_to_m = 5.29177e-11\n",
    "AU_mass_to_kg = 9.10938e-31\n",
    "AU_angMom_to_Js = 1.054572e-34\n",
    "J_to_kJmol = 6.022e23 / 1000\n",
    "eV_to_J = 1 / 6.24e18\n",
    "\n",
    "\n",
    "## Functions ##\n",
    "def E_n (n, h_bar, m_e, L):\n",
    "    return (n**2 * np.pi**2 * h_bar**2) / (2 * m_e * L**2)\n",
    "def psi_n(n, N, x):\n",
    "    return N * np.cos(np.pi * x / 2)\n",
    "def phi_n(n, N, x):\n",
    "    return N * (1 - x**2)\n",
    "def percent_difference(value1, value2):\n",
    "    return (np.abs(value1 - value2) / np.abs((value1 + value2) / 2)) * 100"
   ]
  },
  {
   "cell_type": "markdown",
   "metadata": {},
   "source": [
    "___\n",
    "### Question 1a"
   ]
  },
  {
   "cell_type": "code",
   "execution_count": 2,
   "metadata": {},
   "outputs": [
    {
     "name": "stdout",
     "output_type": "stream",
     "text": [
      "E_1 = 1.233701 Hartrees\n",
      "E_1 = 3239.009658 kJ/mol\n",
      "E_1 = 33.562637 eV\n"
     ]
    }
   ],
   "source": [
    "energy_Hartree = E_n(1, 1, 1, 2)\n",
    "energy_kJmol = E_n(1, (1*AU_angMom_to_Js), (1*AU_mass_to_kg), (2*bohr_to_m)) * J_to_kJmol\n",
    "energy_eV = E_n(1, (1*AU_angMom_to_Js/eV_to_J), (1*AU_mass_to_kg), (2*bohr_to_m)) * eV_to_J       \n",
    "         \n",
    "print(\"E_1 = %f Hartrees\" %energy_Hartree)\n",
    "print(\"E_1 = %f kJ/mol\" %energy_kJmol)\n",
    "print(\"E_1 = %f eV\" %energy_eV)"
   ]
  },
  {
   "cell_type": "markdown",
   "metadata": {},
   "source": [
    "___\n",
    "### Question 1b"
   ]
  },
  {
   "cell_type": "code",
   "execution_count": 3,
   "metadata": {},
   "outputs": [
    {
     "name": "stdout",
     "output_type": "stream",
     "text": [
      "psi(-1) = 0\n",
      "psi(1) = 0\n",
      "The number of nodes = 0\n",
      "The normalization constant = 1\n"
     ]
    },
    {
     "data": {
      "image/png": "[encoded data removed]",
      "text/plain": [
       "<Figure size 432x288 with 1 Axes>"
      ]
     },
     "metadata": {
      "needs_background": "light"
     },
     "output_type": "display_data"
    }
   ],
   "source": [
    "## Use SymPy to Get Normalization Constant ##\n",
    "symX = sympy.Symbol(\"x\")\n",
    "norm1 = sympy.sqrt(1 / sympy.integrate((sympy.cos(sympy.pi * symX / 2)**2), (symX, -1, 1)))\n",
    "\n",
    "\n",
    "## Set Psi_1 ##\n",
    "x = np.linspace(-1, 1, 100)\n",
    "psi_1 = np.zeros(100)\n",
    "\n",
    "for i in range(0, 100):\n",
    "    psi_1[i] = psi_n(1, norm1, x[i])\n",
    "\n",
    "    \n",
    "## Get Nodes ##    \n",
    "nodes=0\n",
    "for i in range(1, 99):                                              ## Don't include first and last points\n",
    "    if (psi_1[i] == 0):\n",
    "        ++nodes\n",
    "\n",
    "        \n",
    "## Get Proper Boundary Conditions ##\n",
    "boundCond1 = psi_1[0]\n",
    "boundCond2 = psi_1[99]\n",
    "\n",
    "\n",
    "## Results ##\n",
    "print(\"psi(-1) = %d\" %boundCond1)\n",
    "print(\"psi(1) = %d\" %boundCond2)\n",
    "print(\"The number of nodes = %d\" %nodes)\n",
    "print(\"The normalization constant = %d\" %norm1)\n",
    "\n",
    "plt.plot(x, psi_1)\n",
    "plt.xlim(-1, 1)\n",
    "_ = plt.ylim(0, 1.5)"
   ]
  },
  {
   "cell_type": "markdown",
   "metadata": {},
   "source": [
    "___\n",
    "### Question 1c"
   ]
  },
  {
   "cell_type": "code",
   "execution_count": 4,
   "metadata": {},
   "outputs": [
    {
     "name": "stdout",
     "output_type": "stream",
     "text": [
      "<E_1> = 1.25 Hartree\n",
      "\n",
      "The percent difference between the expectation value of the energy and\n",
      "the actual energy is 1.31%. This is small, telling us this function is a\n",
      "decent approximation to the actual wavefunction. The actual value is lower \n",
      "than the approximation, which is predicted by the variational principle.\n"
     ]
    },
    {
     "data": {
      "image/png": "[encoded data removed]",
      "text/plain": [
       "<Figure size 432x288 with 1 Axes>"
      ]
     },
     "metadata": {
      "needs_background": "light"
     },
     "output_type": "display_data"
    }
   ],
   "source": [
    "## Use SymPy to get Normalization Constant ##\n",
    "symX = sympy.Symbol(\"x\")\n",
    "exprPhi = (1 - symX**2)\n",
    "norm2 = sympy.sqrt(1 / sympy.integrate(exprPhi**2, (symX, -1, 1)))  ## normalization constant = sqrt(15)/4\n",
    "\n",
    "if (sympy.integrate((sympy.sqrt(15)/4 * exprPhi)**2, (symX, -1, 1))) != 1:\n",
    "    print(\"Not normalized\")\n",
    "\n",
    "## Expectation Value ##\n",
    "braPhi = norm2 * exprPhi                                            ## <phi_1|\n",
    "Ham_ketPhi = (-1/2) * sympy.diff(braPhi, symX, symX)                ## H|phi_1>\n",
    "energy_Expect = sympy.integrate(braPhi * Ham_ketPhi, (symX, -1, 1))\n",
    "\n",
    "percent_diff = percent_difference(energy_Expect, energy_Hartree)\n",
    "\n",
    "print(\"<E_1> = %0.2f Hartree\" %energy_Expect)\n",
    "print(\"\\nThe percent difference between the expectation value of the energy and\\n\\\n",
    "the actual energy is %0.2f%%. This is small, telling us this function is a\\n\\\n",
    "decent approximation to the actual wavefunction. The actual value is lower \\n\\\n",
    "than the approximation, which is predicted by the variational principle.\" %percent_diff)\n",
    "    \n",
    "## Comparison Between Psi_1 and Phi_1 ##\n",
    "x = np.linspace(-1, 1, 100)\n",
    "psi_1 = np.zeros(100)\n",
    "phi_1 = np.zeros(100)\n",
    "\n",
    "for i in range(0, 100):\n",
    "    psi_1[i] = psi_n(1, norm1, x[i])\n",
    "    phi_1[i] = phi_n(1, norm2, x[i])\n",
    "    \n",
    "plt.plot(x, psi_1, label=\"$\\\\psi_1(x)$\")\n",
    "plt.plot(x, phi_1, label=\"$\\\\phi_1(x)$\")\n",
    "\n",
    "plt.xlim(-1, 1)\n",
    "plt.ylim(0, 1.5)\n",
    "_ = plt.legend()"
   ]
  },
  {
   "cell_type": "markdown",
   "metadata": {},
   "source": [
    "___\n",
    "### Question 2a"
   ]
  },
  {
   "cell_type": "code",
   "execution_count": 5,
   "metadata": {},
   "outputs": [
    {
     "data": {
      "text/plain": [
       "-0.09576912160573071"
      ]
     },
     "execution_count": 5,
     "metadata": {},
     "output_type": "execute_result"
    }
   ],
   "source": [
    "## Use SymPy to get Normalization Constant ##\n",
    "r = sympy.Symbol(\"r\")\n",
    "xi = 1#sympy.Symbol(\"xi\", positive = True)\n",
    "gofr = sympy.exp(-xi * r**2)\n",
    "N = sympy.sqrt(1 / sympy.integrate(gofr**2 * r**2, (r, 0, sympy.oo)))\n",
    "gofr *= N   ## Normalized\n",
    "\n",
    "def Hamiltonian_operator(r, waveFunction):\n",
    "    return -1/2 * sympy.diff(waveFunction, r, r) - 1/r * waveFunction\n",
    "function = gofr * r * Hamiltonian_operator(r, gofr * r)\n",
    "\n",
    "float(sympy.integrate(function, (r, 0, sympy.oo)))"
   ]
  },
  {
   "cell_type": "markdown",
   "metadata": {},
   "source": [
    "___\n",
    "### Question 2b"
   ]
  },
  {
   "cell_type": "code",
   "execution_count": 6,
   "metadata": {},
   "outputs": [
    {
     "data": {
      "text/plain": [
       "0.2828282828282829"
      ]
     },
     "execution_count": 6,
     "metadata": {},
     "output_type": "execute_result"
    },
    {
     "data": {
      "image/png": "[encoded data removed]",
      "text/plain": [
       "<Figure size 432x288 with 1 Axes>"
      ]
     },
     "metadata": {
      "needs_background": "light"
     },
     "output_type": "display_data"
    }
   ],
   "source": [
    "r = sympy.Symbol(\"r\")\n",
    "def Hamiltonian_operator(r, waveFunction):\n",
    "    return -1/2 * sympy.diff(waveFunction, r, r) - 1/r * waveFunction\n",
    "\n",
    "def this(r, xi):\n",
    "    gofr = sympy.exp(-xi * r**2)\n",
    "    N = sympy.sqrt(1 / sympy.integrate(gofr**2 * r**2, (r, 0, sympy.oo)))\n",
    "    gofr *= N   ## Normalized\n",
    "    function = gofr * r * Hamiltonian_operator(r, gofr * r)\n",
    "    return float(sympy.integrate(function, (r, 0, sympy.oo)))\n",
    "\n",
    "xi = np.linspace(0, 1, 100)\n",
    "answer = np.zeros(100)\n",
    "for i in range(0, 100):\n",
    "    answer[i] = this(r, xi[i])\n",
    "\n",
    "minimum = np.min(answer)\n",
    "for i in range(0, 100):\n",
    "    if answer[i] == minimum:\n",
    "        bestAnswer = xi[i]\n",
    "        \n",
    "    \n",
    "plt.plot(xi, answer)\n",
    "plt.plot(bestAnswer, minimum, 'o', label=\"(\" + str(bestAnswer) + \", \" + str(minimum) + \")\")\n",
    "plt.plot(xi, np.linspace(-.5, -.5, 100))\n",
    "plt.legend()\n",
    "\n",
    "bestAnswer\n"
   ]
  },
  {
   "cell_type": "code",
   "execution_count": null,
   "metadata": {},
   "outputs": [],
   "source": []
  }
 ],
 "metadata": {
  "kernelspec": {
   "display_name": "Python 3",
   "language": "python",
   "name": "python3"
  },
  "language_info": {
   "codemirror_mode": {
    "name": "ipython",
    "version": 3
   },
   "file_extension": ".py",
   "mimetype": "text/x-python",
   "name": "python",
   "nbconvert_exporter": "python",
   "pygments_lexer": "ipython3",
   "version": "3.7.4"
  }
 },
 "nbformat": 4,
 "nbformat_minor": 2
}
