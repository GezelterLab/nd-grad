{
 "cells": [
  {
   "cell_type": "markdown",
   "metadata": {},
   "source": [
    "## Lab 3 - Computational Chemistry\n",
    "#### Cody R. Drisko"
   ]
  },
  {
   "cell_type": "code",
   "execution_count": 1,
   "metadata": {},
   "outputs": [],
   "source": [
    "## Packages ##\n",
    "from ase import Atoms, Atom\n",
    "from ase.io import write\n",
    "from ase.visualize import view\n",
    "from vasp import *\n",
    "from vasp.vasprc import VASPRC\n",
    "\n",
    "import numpy as np\n",
    "import matplotlib.pyplot as plt"
   ]
  },
  {
   "cell_type": "markdown",
   "metadata": {},
   "source": [
    "___\n",
    "### 3) Simple SCF Calculations"
   ]
  },
  {
   "cell_type": "code",
   "execution_count": 2,
   "metadata": {},
   "outputs": [
    {
     "name": "stdout",
     "output_type": "stream",
     "text": [
      "energy = -14.69232797 eV\n",
      "Forces (eV/Ang.):\n",
      "[[-5.77671642 -0.          0.        ]\n",
      " [ 5.77671642  0.         -0.        ]]\n",
      "\n",
      "\n",
      "Vasp calculation directory:\n",
      "---------------------------\n",
      "  [[/afs/crc.nd.edu/user/c/cdrisko/ND-Coursework/Comp_Chem/VASP/CO/molecules/simple-co]]\n",
      "\n",
      "Unit cell:\n",
      "----------\n",
      "       x       y       z             |v|\n",
      "  v0  10.000   0.000   0.000      10.000 Ang\n",
      "  v1   0.000  10.000   0.000      10.000 Ang\n",
      "  v2   0.000   0.000  10.000      10.000 Ang\n",
      "  alpha, beta, gamma (deg):  90.0  90.0  90.0\n",
      "  Total volume:                 1000.000 Ang^3\n",
      "  Stress:    xx     yy     zz     yz     xz     xy\n",
      "         -0.004  0.002  0.002  0.000 -0.000 -0.000 GPa\n",
      "\n",
      "  ID  tag     sym    x         y         z        rmsF (eV/A)\n",
      "  0   0       C      0.000     0.000     0.000       5.78\n",
      "  1   0       O      1.100     0.000     0.000       5.78\n",
      "  Potential energy: -14.6923 eV\n",
      "\n",
      "INPUT Parameters:\n",
      "-----------------\n",
      "  ismear    : 1\n",
      "  nbands    : 8\n",
      "  sigma     : 0.01\n",
      "  encut     : 350\n",
      "  lwave     : False\n",
      "  lcharg    : False\n",
      "  pp        : PBE\n",
      "  kpts      : [1, 1, 1]\n",
      "  xc        : pbe\n",
      "\n",
      "Pseudopotentials used:\n",
      "----------------------\n",
      "  C: potpaw_PBE/C/POTCAR (git-hash: d84783a3bd506db81b6f55fdf378f7aff55b5fe8)\n",
      "  O: potpaw_PBE/O/POTCAR (git-hash: dddedefdf5a6e46b01745f57227f8b3128555508)\n"
     ]
    }
   ],
   "source": [
    "# These lines specify which queue to submit to, how many cores to request, and your parallel environment.\n",
    "# They are not necessary if you want to use the default values.\n",
    "\n",
    "VASPRC['queue.q'] = 'long'\n",
    "VASPRC['queue.nprocs'] = 8\n",
    "VASPRC['queue.pe'] = 'smp'\n",
    "\n",
    "co = Atoms( [ Atom('C',[  0, 0, 0]),\n",
    "              Atom('O',[1.1, 0, 0]) ],\n",
    "              cell=(10, 10, 10) )\n",
    "\n",
    "calc = Vasp('molecules/simple-co',\n",
    "               xc = 'PBE',    # the exchange-correlation functional\n",
    "           nbands = 8,        # number of bands\n",
    "            encut = 350,      # planewave cutoff\n",
    "           ismear = 1,        # methfessel-paxton smearing\n",
    "            sigma = 0.01,     # very small smearing factor for a molecule\n",
    "            atoms = co)\n",
    "\n",
    "energy = calc.get_potential_energy()\n",
    "forces = calc.get_forces()\n",
    "           \n",
    "print('energy = {0} eV'.format(energy))\n",
    "print('Forces (eV/Ang.):')\n",
    "print(forces)\n",
    "print(calc) # Prints a summary of the calculation\n",
    "            # Note: Some properties are attributes of the atoms object, and some of the calc. "
   ]
  },
  {
   "cell_type": "markdown",
   "metadata": {},
   "source": [
    "___\n",
    "### 4) Geometry Optimizations"
   ]
  },
  {
   "cell_type": "code",
   "execution_count": 3,
   "metadata": {},
   "outputs": [
    {
     "name": "stdout",
     "output_type": "stream",
     "text": [
      "energy = -14.81175954 eV\n",
      "number of geometry steps = 7\n",
      "Forces (eV/Ang.):\n",
      "[[ 0.00345167 -0.          0.        ]\n",
      " [-0.00345167  0.         -0.        ]]\n",
      "Equilibrium Positions (Angs.):\n",
      "C [-0.0218995  0.         0.       ]\n",
      "O [1.1218995 0.        0.       ]\n"
     ]
    }
   ],
   "source": [
    "calc = Vasp('molecules/geometry-co',   # output dir relative to current dir\n",
    "               xc = 'PBE',  # the exchange-correlation functional\n",
    "           nbands = 8,      # number of bands\n",
    "            encut = 350,    # planewave cutoff\n",
    "           ismear = 1,      # Methfessel-Paxton smearing\n",
    "            sigma = 0.01,   # very small smearing factor for a molecule\n",
    "              nsw = 20,     # Number of ionic steps\n",
    "           ibrion = 2,      # Conjugate gradient algorithm\n",
    "            atoms = co)\n",
    "\n",
    "energy = calc.get_potential_energy()\n",
    "nsteps = calc.get_number_of_ionic_steps()\n",
    "forces = calc.get_forces()\n",
    "\n",
    "print('energy = {0} eV'.format(energy))\n",
    "print('number of geometry steps = {0}'.format(nsteps))\n",
    "print('Forces (eV/Ang.):')\n",
    "print(forces)\n",
    "print('Equilibrium Positions (Angs.):')\n",
    "for atom in co:\n",
    "    print(atom.symbol, atom.position)\n",
    "\n",
    "# Save an image. Note that this is done outside the with statement\n",
    "write('images/CO-relaxed.png', co, show_unit_cell=2, rotation='60x,-30y,90z')"
   ]
  },
  {
   "cell_type": "markdown",
   "metadata": {},
   "source": [
    "___\n",
    "### 5) Effect of Unit Cell Size"
   ]
  },
  {
   "cell_type": "code",
   "execution_count": 4,
   "metadata": {},
   "outputs": [
    {
     "name": "stdout",
     "output_type": "stream",
     "text": [
      "4 0.624 seconds\n",
      "5 0.79 seconds\n",
      "6 0.842 seconds\n",
      "8 1.823 seconds\n",
      "10 3.063 seconds\n"
     ]
    },
    {
     "data": {
      "image/png": "[encoded data removed]",
      "text/plain": [
       "<Figure size 432x288 with 1 Axes>"
      ]
     },
     "metadata": {
      "needs_background": "light"
     },
     "output_type": "display_data"
    }
   ],
   "source": [
    "L = [4,5,6,8,10]\n",
    "\n",
    "energies = []\n",
    "traj = []\n",
    "\n",
    "atoms = Atoms( [Atom('C', [  0, 0, 0]),\n",
    "                Atom('O', [1.2, 0, 0])] )\n",
    "\n",
    "for a in L:\n",
    "    atoms.set_cell([a, a, a], scale_atoms=False)\n",
    "    atoms.center()\n",
    "    traj += [atoms]\n",
    "    \n",
    "    calc = Vasp('molecules/co-L-{0}'.format(a),\n",
    "               encut = 350,\n",
    "                  xc = 'PBE',\n",
    "               atoms = atoms)\n",
    "    energies.append(calc.get_potential_energy())\n",
    "    \n",
    "    print('{0} {1} seconds'.format(a, calc.get_elapsed_time()))\n",
    "    \n",
    "plt.plot(L, energies, 'bo-')\n",
    "plt.xlabel('Unit Cell Length ($\\AA$)')\n",
    "plt.ylabel('Total energy (eV)')\n",
    "plt.savefig('images/co-e-v.png')\n",
    "plt.xlim([4, 10])\n",
    "plt.ylim([-15.4, -14.6])\n",
    "plt.show()"
   ]
  },
  {
   "cell_type": "code",
   "execution_count": null,
   "metadata": {},
   "outputs": [],
   "source": []
  }
 ],
 "metadata": {
  "kernelspec": {
   "display_name": "Python 3",
   "language": "python",
   "name": "python3"
  },
  "language_info": {
   "codemirror_mode": {
    "name": "ipython",
    "version": 3
   },
   "file_extension": ".py",
   "mimetype": "text/x-python",
   "name": "python",
   "nbconvert_exporter": "python",
   "pygments_lexer": "ipython3",
   "version": "3.7.4"
  }
 },
 "nbformat": 4,
 "nbformat_minor": 2
}
